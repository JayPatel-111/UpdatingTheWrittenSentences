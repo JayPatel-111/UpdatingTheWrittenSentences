{
 "cells": [
  {
   "cell_type": "code",
   "execution_count": null,
   "id": "9419350d",
   "metadata": {},
   "outputs": [],
   "source": [
    "#UPDATING THE WRONG entered SENTENCE USING INDEXING\n",
    "class Sentence:\n",
    "    def __init__(self, sentence):\n",
    "        self.sentence = sentence\n",
    "\n",
    "    def get_first_word(self):\n",
    "        words = self.sentence.split()\n",
    "        if words:\n",
    "            return words[0]\n",
    "        return None\n",
    "\n",
    "    def get_all_words(self):\n",
    "        return self.sentence.split()\n",
    "\n",
    "    def replace(self, index, new_word):\n",
    "        words = self.sentence.split()\n",
    "        if 0 <= index < len(words):\n",
    "            words[index] = new_word\n",
    "            self.sentence = ' '.join(words)\n",
    "\n",
    "    def __str__(self):\n",
    "        return self.sentence\n",
    "\n",
    "sentence_text = input(\"Enter a sentence: \")\n",
    "sentence = Sentence(sentence_text)\n",
    "print(\"First word:\", sentence.get_first_word())\n",
    "print(\"All words:\", sentence.get_all_words())\n",
    "index = int(input(\"Enter the index(number starting from 0) of the word to replace: \"))\n",
    "new_word = input(\"Enter the new word: \")\n",
    "sentence.replace(index, new_word)\n",
    "print(\"Updated sentence:\", sentence)\n"
   ]
  }
 ],
 "metadata": {
  "kernelspec": {
   "display_name": "Python 3 (ipykernel)",
   "language": "python",
   "name": "python3"
  },
  "language_info": {
   "codemirror_mode": {
    "name": "ipython",
    "version": 3
   },
   "file_extension": ".py",
   "mimetype": "text/x-python",
   "name": "python",
   "nbconvert_exporter": "python",
   "pygments_lexer": "ipython3",
   "version": "3.10.9"
  }
 },
 "nbformat": 4,
 "nbformat_minor": 5
}
